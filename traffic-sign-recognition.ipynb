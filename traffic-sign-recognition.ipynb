{
 "cells": [
  {
   "attachments": {},
   "cell_type": "markdown",
   "id": "21a3d486",
   "metadata": {
    "papermill": {
     "duration": 0.009495,
     "end_time": "2023-05-23T22:40:10.331471",
     "exception": false,
     "start_time": "2023-05-23T22:40:10.321976",
     "status": "completed"
    },
    "tags": []
   },
   "source": [
    "Traffic Sign Recognition"
   ]
  },
  {
   "cell_type": "code",
   "execution_count": null,
   "id": "e79d767a",
   "metadata": {
    "_cell_guid": "b1076dfc-b9ad-4769-8c92-a6c4dae69d19",
    "_uuid": "8f2839f25d086af736a60e9eeb907d3b93b6e0e5",
    "execution": {
     "iopub.execute_input": "2023-05-23T22:40:10.362723Z",
     "iopub.status.busy": "2023-05-23T22:40:10.362060Z",
     "iopub.status.idle": "2023-05-23T22:40:54.868467Z",
     "shell.execute_reply": "2023-05-23T22:40:54.867492Z"
    },
    "papermill": {
     "duration": 44.517068,
     "end_time": "2023-05-23T22:40:54.870676",
     "exception": false,
     "start_time": "2023-05-23T22:40:10.353608",
     "status": "completed"
    },
    "tags": []
   },
   "outputs": [],
   "source": [
    "import numpy as np                 # biblioteca NumPy pentru calcule numerice\n",
    "import pandas as pd                # biblioteca Pandas pentru manipularea și analiza datelor\n",
    "import os                          # modulul os pentru interacțiunea cu sistemul de operare\n",
    "import cv2                         # biblioteca OpenCV pentru prelucrarea imaginilor\n",
    "import warnings\n",
    "import matplotlib.pyplot as plt    # biblioteca Matplotlib pentru vizualizarea datelor\n",
    "import tensorflow as tf            # biblioteca TensorFlow pentru învățare adâncă\n",
    "from tensorflow import keras       # modulul Keras din TensorFlow pentru construirea rețelelor neuronale\n",
    "from PIL import Image              # biblioteca PIL pentru prelucrarea imaginilor\n",
    "from tensorflow.keras.optimizers import Adam\n",
    "from keras.utils import to_categorical\n",
    "from sklearn.model_selection import train_test_split  # train_test_split din scikit-learn pentru împărțirea datelor\n",
    "from tensorflow.keras.preprocessing.image import ImageDataGenerator  # ImageDataGenerator pentru augmentarea datelor\n",
    "from tensorflow.keras.optimizers import Adam   # optimizatorul Adam din TensorFlow pentru optimizarea modelului\n",
    "from sklearn.metrics import accuracy_score    # accuracy_score din scikit-learn pentru calcularea acurateței\n",
    "from matplotlib import style       # style din Matplotlib pentru personalizarea stilurilor de plotare\n",
    "style.use('seaborn-dark')\n",
    "warnings.filterwarnings(\"ignore\")\n",
    "np.random.seed(42)\n"
   ]
  },
  {
   "attachments": {},
   "cell_type": "markdown",
   "id": "266444a9",
   "metadata": {
    "papermill": {
     "duration": 0.007313,
     "end_time": "2023-05-23T22:40:54.885206",
     "exception": false,
     "start_time": "2023-05-23T22:40:54.877893",
     "status": "completed"
    },
    "tags": []
   },
   "source": [
    "2. Prepararea datelor"
   ]
  },
  {
   "cell_type": "code",
   "execution_count": null,
   "id": "c9f73cf1",
   "metadata": {
    "execution": {
     "iopub.execute_input": "2023-05-23T22:40:54.901633Z",
     "iopub.status.busy": "2023-05-23T22:40:54.900630Z",
     "iopub.status.idle": "2023-05-23T22:40:54.910950Z",
     "shell.execute_reply": "2023-05-23T22:40:54.910123Z"
    },
    "papermill": {
     "duration": 0.020886,
     "end_time": "2023-05-23T22:40:54.913140",
     "exception": false,
     "start_time": "2023-05-23T22:40:54.892254",
     "status": "completed"
    },
    "tags": []
   },
   "outputs": [],
   "source": [
    "def read_images(directory_path):\n",
    "    images = []\n",
    "    labels = []\n",
    "\n",
    "    valid_extensions = ('.jpg', '.jpeg', '.png')  # Extensiile imaginilor acceptate\n",
    "\n",
    "    subdirectories = [subdir for subdir in os.listdir(directory_path) if os.path.isdir(os.path.join(directory_path, subdir))]\n",
    "\n",
    "    for subdir in subdirectories:\n",
    "        subdirectory_path = os.path.join(directory_path, subdir)\n",
    "        if not os.listdir(subdirectory_path):\n",
    "            continue  # Sarim peste directoare goale\n",
    "\n",
    "        # Iteram imaginile din subdirectoriu\n",
    "        for filename in os.listdir(subdirectory_path):\n",
    "            if filename.lower().endswith(valid_extensions):  # Verificam daca are extensia acceptata\n",
    "                image_path = os.path.join(subdirectory_path, filename)\n",
    "                image = cv2.imread(image_path)\n",
    "                image = cv2.resize(image, (30, 30))  # Redimensionam imaginile la 30x30 pixeli pentru a reduce timpul de antrenare\n",
    "                images.append(image)\n",
    "\n",
    "                # Adaugam eticheta imaginii\n",
    "                label = int(subdir)\n",
    "                labels.append(label)\n",
    "\n",
    "    data = np.array(list(zip(images, labels)))\n",
    "    \n",
    "    return data\n",
    "\n",
    "train_data = read_images('Train')\n",
    "print(f\"Train Data Shape : {train_data.shape}\")"
   ]
  },
  {
   "cell_type": "code",
   "execution_count": null,
   "id": "f6778c52",
   "metadata": {
    "execution": {
     "iopub.execute_input": "2023-05-23T22:45:25.607865Z",
     "iopub.status.busy": "2023-05-23T22:45:25.607594Z",
     "iopub.status.idle": "2023-05-23T22:45:25.616887Z",
     "shell.execute_reply": "2023-05-23T22:45:25.616014Z"
    },
    "papermill": {
     "duration": 0.019572,
     "end_time": "2023-05-23T22:45:25.618908",
     "exception": false,
     "start_time": "2023-05-23T22:45:25.599336",
     "status": "completed"
    },
    "tags": []
   },
   "outputs": [],
   "source": [
    "classes = { \n",
    "    0:'Speed limit (20km/h)',\n",
    "    1:'Speed limit (30km/h)', \n",
    "    2:'Speed limit (50km/h)', \n",
    "    3:'Speed limit (60km/h)', \n",
    "    4:'Speed limit (70km/h)', \n",
    "    5:'Speed limit (80km/h)', \n",
    "    6:'End of speed limit (80km/h)', \n",
    "    7:'Speed limit (100km/h)', \n",
    "    8:'Speed limit (120km/h)', \n",
    "    9:'No passing', \n",
    "    10:'No passing veh over 3.5 tons', \n",
    "    11:'Right-of-way at intersection', \n",
    "    12:'Priority road', \n",
    "    13:'Yield', \n",
    "    14:'Stop', \n",
    "    15:'No vehicles', \n",
    "    16:'Veh > 3.5 tons prohibited', \n",
    "    17:'No entry', \n",
    "    18:'General caution', \n",
    "    19:'Dangerous curve left', \n",
    "    20:'Dangerous curve right', \n",
    "    21:'Double curve', \n",
    "    22:'Bumpy road', \n",
    "    23:'Slippery road', \n",
    "    24:'Road narrows on the right', \n",
    "    25:'Road work', \n",
    "    26:'Traffic signals', \n",
    "    27:'Pedestrians', \n",
    "    28:'Children crossing', \n",
    "    29:'Bicycles crossing', \n",
    "    30:'Beware of ice/snow',\n",
    "    31:'Wild animals crossing', \n",
    "    32:'End speed + passing limits', \n",
    "    33:'Turn right ahead', \n",
    "    34:'Turn left ahead', \n",
    "    35:'Ahead only', \n",
    "    36:'Go straight or right', \n",
    "    37:'Go straight or left', \n",
    "    38:'Keep right', \n",
    "    39:'Keep left', \n",
    "    40:'Roundabout mandatory', \n",
    "    41:'End of no passing', \n",
    "    42:'End no passing veh > 3.5 tons'\n",
    "}"
   ]
  },
  {
   "cell_type": "code",
   "execution_count": null,
   "id": "fed5ec79",
   "metadata": {
    "execution": {
     "iopub.execute_input": "2023-05-23T22:45:25.634127Z",
     "iopub.status.busy": "2023-05-23T22:45:25.633829Z",
     "iopub.status.idle": "2023-05-23T22:45:26.330440Z",
     "shell.execute_reply": "2023-05-23T22:45:26.329428Z"
    },
    "papermill": {
     "duration": 0.707759,
     "end_time": "2023-05-23T22:45:26.333675",
     "exception": false,
     "start_time": "2023-05-23T22:45:25.625916",
     "status": "completed"
    },
    "tags": []
   },
   "outputs": [],
   "source": [
    "labels = train_data[:, 1].astype(int)\n",
    "\n",
    "# Calculeaza numarul de imagini pentru fiecare eticheta\n",
    "unique_labels, label_counts = np.unique(labels, return_counts=True)\n",
    "\n",
    "plt.figure(figsize=(15,10))\n",
    "plt.barh(unique_labels, label_counts)\n",
    "plt.xlabel('Numar')\n",
    "plt.ylabel('Label')\n",
    "plt.yticks(unique_labels, [classes[label] for label in unique_labels])\n",
    "plt.show()\n"
   ]
  },
  {
   "cell_type": "code",
   "execution_count": null,
   "id": "401adc16",
   "metadata": {
    "execution": {
     "iopub.execute_input": "2023-05-23T22:45:26.351506Z",
     "iopub.status.busy": "2023-05-23T22:45:26.351177Z",
     "iopub.status.idle": "2023-05-23T22:45:26.943024Z",
     "shell.execute_reply": "2023-05-23T22:45:26.942082Z"
    },
    "papermill": {
     "duration": 0.603656,
     "end_time": "2023-05-23T22:45:26.945549",
     "exception": false,
     "start_time": "2023-05-23T22:45:26.341893",
     "status": "completed"
    },
    "tags": []
   },
   "outputs": [],
   "source": [
    "# Afiseaza 10 imagini random din setul de date\n",
    "indices = np.random.choice(train_data.shape[0], size=10, replace=False)\n",
    "samples = train_data[indices]\n",
    "\n",
    "fig, axes = plt.subplots(2, 5, figsize=(12, 6))\n",
    "fig.subplots_adjust(hspace=0.4)\n",
    "\n",
    "for i, (image, label) in enumerate(samples):\n",
    "    ax = axes[i // 5, i % 5]\n",
    "    ax.imshow(image)\n",
    "    ax.set_title(classes[label])\n",
    "    ax.axis('off')\n",
    "\n",
    "plt.show()\n"
   ]
  },
  {
   "cell_type": "code",
   "execution_count": null,
   "id": "86c18d5f",
   "metadata": {
    "execution": {
     "iopub.execute_input": "2023-05-23T22:45:26.965174Z",
     "iopub.status.busy": "2023-05-23T22:45:26.964384Z",
     "iopub.status.idle": "2023-05-23T22:45:26.970322Z",
     "shell.execute_reply": "2023-05-23T22:45:26.969491Z"
    },
    "papermill": {
     "duration": 0.017814,
     "end_time": "2023-05-23T22:45:26.972473",
     "exception": false,
     "start_time": "2023-05-23T22:45:26.954659",
     "status": "completed"
    },
    "tags": []
   },
   "outputs": [],
   "source": [
    "shuffled_train = train_data.copy()\n",
    "shuffled_train = np.array(shuffled_train)"
   ]
  },
  {
   "cell_type": "code",
   "execution_count": null,
   "id": "5b5ba68f",
   "metadata": {
    "execution": {
     "iopub.execute_input": "2023-05-23T22:45:26.991927Z",
     "iopub.status.busy": "2023-05-23T22:45:26.991081Z",
     "iopub.status.idle": "2023-05-23T22:45:27.478221Z",
     "shell.execute_reply": "2023-05-23T22:45:27.477023Z"
    },
    "papermill": {
     "duration": 0.49984,
     "end_time": "2023-05-23T22:45:27.480674",
     "exception": false,
     "start_time": "2023-05-23T22:45:26.980834",
     "status": "completed"
    },
    "tags": []
   },
   "outputs": [],
   "source": [
    "# Amestecam datele\n",
    "train_set, test_set = train_test_split(shuffled_train, test_size=0.2, random_state=42)\n",
    "\n",
    "# Separam input-ul (X) si output-ul/label-ul (y) din setul de antrenare\n",
    "x_train = train_set[:, 0]\n",
    "y_train = train_set[:, 1]\n",
    "\n",
    "# Separam input-ul (X) si output-ul/label-ul (y) din setul de testare\n",
    "x_test = test_set[:, 0]\n",
    "y_test = test_set[:, 1]\n",
    "\n",
    "# Convertim input-ul din lista de imagini in array NumPy\n",
    "x_train = np.array([np.array(x) for x in x_train])\n",
    "y_train = np.array([np.array(y) for y in y_train])\n",
    "x_test = np.array([np.array(x) for x in x_test])\n",
    "y_test = np.array([np.array(y) for y in y_test])\n",
    "\n",
    "# Convertim output-ul din lista de etichete in array NumPy\n",
    "x_train = x_train / 255.0\n",
    "x_test = x_test / 255.0\n",
    "\n",
    "print(\"x_train.shape:\", x_train.shape)\n",
    "print(\"x_test.shape:\", x_test.shape)\n",
    "print(\"y_train.shape:\", y_train.shape)\n",
    "print(\"y_test.shape:\", y_test.shape)\n",
    "\n",
    "# Convertim etichetele din formatul int in formatul one-hot encoding\n",
    "y_train = to_categorical(y_train, num_classes=43)\n",
    "y_test = to_categorical(y_test, num_classes=43)\n"
   ]
  },
  {
   "attachments": {},
   "cell_type": "markdown",
   "id": "3faeefb4",
   "metadata": {
    "papermill": {
     "duration": 0.008381,
     "end_time": "2023-05-23T22:45:27.528335",
     "exception": false,
     "start_time": "2023-05-23T22:45:27.519954",
     "status": "completed"
    },
    "tags": []
   },
   "source": [
    "3. Crearea modelului si evaluarea lui"
   ]
  },
  {
   "cell_type": "code",
   "execution_count": null,
   "id": "56828363",
   "metadata": {
    "execution": {
     "iopub.execute_input": "2023-05-23T22:45:27.546500Z",
     "iopub.status.busy": "2023-05-23T22:45:27.546226Z",
     "iopub.status.idle": "2023-05-23T22:45:31.485666Z",
     "shell.execute_reply": "2023-05-23T22:45:31.484389Z"
    },
    "papermill": {
     "duration": 3.95157,
     "end_time": "2023-05-23T22:45:31.488364",
     "exception": false,
     "start_time": "2023-05-23T22:45:27.536794",
     "status": "completed"
    },
    "tags": []
   },
   "outputs": [],
   "source": [
    "# Definim modelul\n",
    "model = tf.keras.Sequential([\n",
    "    tf.keras.layers.Conv2D(filters=16, kernel_size=(3, 3), activation='relu', input_shape=(30,30,3)),\n",
    "    tf.keras.layers.Conv2D(filters=32, kernel_size=(3, 3), activation='relu'),\n",
    "    tf.keras.layers.MaxPool2D(pool_size=(2, 2)),\n",
    "    tf.keras.layers.BatchNormalization(axis=-1),\n",
    "    \n",
    "    tf.keras.layers.Conv2D(filters=64, kernel_size=(3, 3), activation='relu'),\n",
    "    tf.keras.layers.Conv2D(filters=128, kernel_size=(3, 3), activation='relu'),\n",
    "    tf.keras.layers.MaxPool2D(pool_size=(2, 2)),\n",
    "    tf.keras.layers.BatchNormalization(axis=-1),\n",
    "    \n",
    "    tf.keras.layers.Flatten(),\n",
    "    tf.keras.layers.Dense(512, activation='relu'),\n",
    "    tf.keras.layers.BatchNormalization(),\n",
    "    tf.keras.layers.Dropout(rate=0.5),\n",
    "    \n",
    "    tf.keras.layers.Dense(43, activation='softmax')\n",
    "])\n"
   ]
  },
  {
   "cell_type": "code",
   "execution_count": null,
   "id": "006a408f",
   "metadata": {
    "execution": {
     "iopub.execute_input": "2023-05-23T22:45:31.512862Z",
     "iopub.status.busy": "2023-05-23T22:45:31.512510Z",
     "iopub.status.idle": "2023-05-23T22:45:31.530152Z",
     "shell.execute_reply": "2023-05-23T22:45:31.529171Z"
    },
    "papermill": {
     "duration": 0.035014,
     "end_time": "2023-05-23T22:45:31.532354",
     "exception": false,
     "start_time": "2023-05-23T22:45:31.497340",
     "status": "completed"
    },
    "tags": []
   },
   "outputs": [],
   "source": [
    "lr = 0.001\n",
    "epochs = 30\n",
    "\n",
    "opt = Adam(learning_rate=lr) \n",
    "model.compile(loss='categorical_crossentropy', optimizer=opt, metrics=['accuracy'])"
   ]
  },
  {
   "cell_type": "code",
   "execution_count": null,
   "id": "36a587d4",
   "metadata": {
    "execution": {
     "iopub.execute_input": "2023-05-23T22:45:31.550927Z",
     "iopub.status.busy": "2023-05-23T22:45:31.550638Z",
     "iopub.status.idle": "2023-05-23T22:59:17.534179Z",
     "shell.execute_reply": "2023-05-23T22:59:17.532962Z"
    },
    "papermill": {
     "duration": 825.99593,
     "end_time": "2023-05-23T22:59:17.536794",
     "exception": false,
     "start_time": "2023-05-23T22:45:31.540864",
     "status": "completed"
    },
    "tags": []
   },
   "outputs": [],
   "source": [
    "from tensorflow.keras.preprocessing.image import ImageDataGenerator\n",
    "\n",
    "aug = ImageDataGenerator(\n",
    "    rotation_range=15,         \n",
    "    zoom_range=0.2,               \n",
    "    width_shift_range=0.15,       \n",
    "    height_shift_range=0.15,      \n",
    "    shear_range=0.2,             \n",
    "    horizontal_flip=True,         \n",
    "    vertical_flip=True,          \n",
    "    fill_mode=\"reflect\"           \n",
    ")\n",
    "\n",
    "\n",
    "history = model.fit(aug.flow(x_train,y_train, batch_size=32), epochs=epochs, validation_data=(x_test,y_test))\n"
   ]
  },
  {
   "cell_type": "code",
   "execution_count": null,
   "id": "b7a29f00",
   "metadata": {
    "execution": {
     "iopub.execute_input": "2023-05-23T22:59:20.216221Z",
     "iopub.status.busy": "2023-05-23T22:59:20.215425Z",
     "iopub.status.idle": "2023-05-23T22:59:20.689863Z",
     "shell.execute_reply": "2023-05-23T22:59:20.688887Z"
    },
    "papermill": {
     "duration": 1.807944,
     "end_time": "2023-05-23T22:59:20.691877",
     "exception": false,
     "start_time": "2023-05-23T22:59:18.883933",
     "status": "completed"
    },
    "tags": []
   },
   "outputs": [],
   "source": [
    "plt.figure(figsize=(10, 5))\n",
    "plt.plot(history.history['loss'], label='Training Loss')\n",
    "plt.plot(history.history['val_loss'], label='Validation Loss')\n",
    "plt.title('Model Loss')\n",
    "plt.xlabel('Epochs')\n",
    "plt.ylabel('Loss')\n",
    "plt.legend()\n",
    "plt.show()\n",
    "\n",
    "plt.figure(figsize=(10, 5))\n",
    "plt.plot(history.history['accuracy'], label='Training Accuracy')\n",
    "plt.plot(history.history['val_accuracy'], label='Validation Accuracy')\n",
    "plt.title('Model Accuracy')\n",
    "plt.xlabel('Epochs')\n",
    "plt.ylabel('Accuracy')\n",
    "plt.legend()\n",
    "plt.show()\n"
   ]
  },
  {
   "cell_type": "code",
   "execution_count": null,
   "id": "f1b8cbe6",
   "metadata": {
    "execution": {
     "iopub.execute_input": "2023-05-23T22:59:23.407913Z",
     "iopub.status.busy": "2023-05-23T22:59:23.407142Z",
     "iopub.status.idle": "2023-05-23T22:59:48.413438Z",
     "shell.execute_reply": "2023-05-23T22:59:48.412247Z"
    },
    "papermill": {
     "duration": 26.445168,
     "end_time": "2023-05-23T22:59:48.417063",
     "exception": false,
     "start_time": "2023-05-23T22:59:21.971895",
     "status": "completed"
    },
    "tags": []
   },
   "outputs": [],
   "source": [
    "shuffled_train_dataframe = pd.DataFrame(shuffled_train)\n",
    "# Salvam datele amestecate intr-un fisier CSV\n",
    "shuffled_train_dataframe.to_csv('data.csv', index=False)\n",
    "\n",
    "# Salvam modelul\n",
    "model.save(\"saved_model.h5\")"
   ]
  },
  {
   "cell_type": "code",
   "execution_count": null,
   "id": "9642d179",
   "metadata": {
    "execution": {
     "iopub.execute_input": "2023-05-23T22:59:53.825770Z",
     "iopub.status.busy": "2023-05-23T22:59:53.825360Z",
     "iopub.status.idle": "2023-05-23T22:59:54.337681Z",
     "shell.execute_reply": "2023-05-23T22:59:54.336549Z"
    },
    "papermill": {
     "duration": 1.80904,
     "end_time": "2023-05-23T22:59:54.339709",
     "exception": false,
     "start_time": "2023-05-23T22:59:52.530669",
     "status": "completed"
    },
    "tags": []
   },
   "outputs": [],
   "source": [
    "def predict_image(model_path, image_path):\n",
    "    # Incarcam modelul\n",
    "    model = tf.keras.models.load_model(model_path)\n",
    "    \n",
    "    # Incarcam imaginea\n",
    "    image = cv2.imread(image_path)\n",
    "    image = cv2.resize(image, (30, 30))\n",
    "    image = np.expand_dims(image, axis=0)\n",
    "    image = image / 255.0\n",
    "    \n",
    "    # Facem predictia\n",
    "    predictions = model.predict(image)\n",
    "    predicted_label = np.argmax(predictions)\n",
    "    \n",
    "    return predicted_label\n",
    "\n",
    "model_path = \"saved_model.h5\"\n",
    "image_path = \"Test/00002.png\"\n",
    "\n",
    "predicted_label = predict_image(model_path, image_path)\n",
    "print(\"Predictie:\", classes[predicted_label])\n"
   ]
  }
 ],
 "metadata": {
  "kernelspec": {
   "display_name": "Python 3",
   "language": "python",
   "name": "python3"
  },
  "language_info": {
   "codemirror_mode": {
    "name": "ipython",
    "version": 3
   },
   "file_extension": ".py",
   "mimetype": "text/x-python",
   "name": "python",
   "nbconvert_exporter": "python",
   "pygments_lexer": "ipython3",
   "version": "3.11.3"
  },
  "papermill": {
   "default_parameters": {},
   "duration": 1196.415074,
   "end_time": "2023-05-23T23:00:04.287088",
   "environment_variables": {},
   "exception": null,
   "input_path": "__notebook__.ipynb",
   "output_path": "__notebook__.ipynb",
   "parameters": {},
   "start_time": "2023-05-23T22:40:07.872014",
   "version": "2.4.0"
  }
 },
 "nbformat": 4,
 "nbformat_minor": 5
}
